{
 "cells": [
  {
   "cell_type": "code",
   "execution_count": 1,
   "metadata": {},
   "outputs": [],
   "source": [
    "#Importing necessary libraries\n",
    "import pandas as pd\n",
    "import numpy as np\n",
    "import matplotlib.pyplot as plt\n",
    "import seaborn as sns\n",
    "from bs4 import BeautifulSoup\n",
    "import warnings\n",
    "warnings.filterwarnings('ignore')\n",
    "pd.set_option('display.max_colwidth', -1)"
   ]
  },
  {
   "cell_type": "code",
   "execution_count": 2,
   "metadata": {},
   "outputs": [
    {
     "data": {
      "text/plain": [
       "(404290, 6)"
      ]
     },
     "execution_count": 2,
     "metadata": {},
     "output_type": "execute_result"
    }
   ],
   "source": [
    "data = pd.read_csv('quora_dataset.csv')\n",
    "data.shape"
   ]
  },
  {
   "cell_type": "code",
   "execution_count": 3,
   "metadata": {},
   "outputs": [
    {
     "data": {
      "text/html": [
       "<div>\n",
       "<style scoped>\n",
       "    .dataframe tbody tr th:only-of-type {\n",
       "        vertical-align: middle;\n",
       "    }\n",
       "\n",
       "    .dataframe tbody tr th {\n",
       "        vertical-align: top;\n",
       "    }\n",
       "\n",
       "    .dataframe thead th {\n",
       "        text-align: right;\n",
       "    }\n",
       "</style>\n",
       "<table border=\"1\" class=\"dataframe\">\n",
       "  <thead>\n",
       "    <tr style=\"text-align: right;\">\n",
       "      <th></th>\n",
       "      <th>id</th>\n",
       "      <th>qid1</th>\n",
       "      <th>qid2</th>\n",
       "      <th>question1</th>\n",
       "      <th>question2</th>\n",
       "      <th>is_duplicate</th>\n",
       "    </tr>\n",
       "  </thead>\n",
       "  <tbody>\n",
       "    <tr>\n",
       "      <th>0</th>\n",
       "      <td>0</td>\n",
       "      <td>1</td>\n",
       "      <td>2</td>\n",
       "      <td>What is the step by step guide to invest in share market in india?</td>\n",
       "      <td>What is the step by step guide to invest in share market?</td>\n",
       "      <td>0</td>\n",
       "    </tr>\n",
       "    <tr>\n",
       "      <th>1</th>\n",
       "      <td>1</td>\n",
       "      <td>3</td>\n",
       "      <td>4</td>\n",
       "      <td>What is the story of Kohinoor (Koh-i-Noor) Diamond?</td>\n",
       "      <td>What would happen if the Indian government stole the Kohinoor (Koh-i-Noor) diamond back?</td>\n",
       "      <td>0</td>\n",
       "    </tr>\n",
       "    <tr>\n",
       "      <th>2</th>\n",
       "      <td>2</td>\n",
       "      <td>5</td>\n",
       "      <td>6</td>\n",
       "      <td>How can I increase the speed of my internet connection while using a VPN?</td>\n",
       "      <td>How can Internet speed be increased by hacking through DNS?</td>\n",
       "      <td>0</td>\n",
       "    </tr>\n",
       "    <tr>\n",
       "      <th>3</th>\n",
       "      <td>3</td>\n",
       "      <td>7</td>\n",
       "      <td>8</td>\n",
       "      <td>Why am I mentally very lonely? How can I solve it?</td>\n",
       "      <td>Find the remainder when [math]23^{24}[/math] is divided by 24,23?</td>\n",
       "      <td>0</td>\n",
       "    </tr>\n",
       "    <tr>\n",
       "      <th>4</th>\n",
       "      <td>4</td>\n",
       "      <td>9</td>\n",
       "      <td>10</td>\n",
       "      <td>Which one dissolve in water quikly sugar, salt, methane and carbon di oxide?</td>\n",
       "      <td>Which fish would survive in salt water?</td>\n",
       "      <td>0</td>\n",
       "    </tr>\n",
       "  </tbody>\n",
       "</table>\n",
       "</div>"
      ],
      "text/plain": [
       "   id  qid1  qid2  \\\n",
       "0  0   1     2      \n",
       "1  1   3     4      \n",
       "2  2   5     6      \n",
       "3  3   7     8      \n",
       "4  4   9     10     \n",
       "\n",
       "                                                                      question1  \\\n",
       "0  What is the step by step guide to invest in share market in india?             \n",
       "1  What is the story of Kohinoor (Koh-i-Noor) Diamond?                            \n",
       "2  How can I increase the speed of my internet connection while using a VPN?      \n",
       "3  Why am I mentally very lonely? How can I solve it?                             \n",
       "4  Which one dissolve in water quikly sugar, salt, methane and carbon di oxide?   \n",
       "\n",
       "                                                                                  question2  \\\n",
       "0  What is the step by step guide to invest in share market?                                  \n",
       "1  What would happen if the Indian government stole the Kohinoor (Koh-i-Noor) diamond back?   \n",
       "2  How can Internet speed be increased by hacking through DNS?                                \n",
       "3  Find the remainder when [math]23^{24}[/math] is divided by 24,23?                          \n",
       "4  Which fish would survive in salt water?                                                    \n",
       "\n",
       "   is_duplicate  \n",
       "0  0             \n",
       "1  0             \n",
       "2  0             \n",
       "3  0             \n",
       "4  0             "
      ]
     },
     "execution_count": 3,
     "metadata": {},
     "output_type": "execute_result"
    }
   ],
   "source": [
    "data.head()"
   ]
  },
  {
   "cell_type": "markdown",
   "metadata": {},
   "source": [
    "### Class imbalance"
   ]
  },
  {
   "cell_type": "code",
   "execution_count": 4,
   "metadata": {},
   "outputs": [
    {
     "data": {
      "image/png": "[encoded data removed]",
      "text/plain": [
       "<Figure size 720x576 with 1 Axes>"
      ]
     },
     "metadata": {
      "needs_background": "light"
     },
     "output_type": "display_data"
    }
   ],
   "source": [
    "plt.figure(figsize=(10,8))\n",
    "sns.countplot(x=\"is_duplicate\", data=data)\n",
    "plt.show()"
   ]
  },
  {
   "cell_type": "code",
   "execution_count": 5,
   "metadata": {},
   "outputs": [
    {
     "data": {
      "text/plain": [
       "(404287, 6)"
      ]
     },
     "execution_count": 5,
     "metadata": {},
     "output_type": "execute_result"
    }
   ],
   "source": [
    "data = data[data.question1.notnull() & data.question2.notnull()]\n",
    "data.shape"
   ]
  },
  {
   "cell_type": "markdown",
   "metadata": {},
   "source": [
    "### Converting question1 and question2 to lower-case"
   ]
  },
  {
   "cell_type": "code",
   "execution_count": 6,
   "metadata": {},
   "outputs": [],
   "source": [
    "data['question1'] = data.question1.str.lower()\n",
    "data['question2'] = data.question2.str.lower()"
   ]
  },
  {
   "cell_type": "markdown",
   "metadata": {},
   "source": [
    "### Remove HTML tags"
   ]
  },
  {
   "cell_type": "code",
   "execution_count": 7,
   "metadata": {},
   "outputs": [
    {
     "name": "stdout",
     "output_type": "stream",
     "text": [
      "Before removing HTML tags: \n",
      "Number of rows in question1 with both < & > operator: 53\n",
      "Number of rows in question2 with both < & > operator: 32\n"
     ]
    }
   ],
   "source": [
    "q1_tags = sum((data.question1.str.contains('<')) & (data.question1.str.contains('>')))\n",
    "q2_tags = sum((data.question2.str.contains('<')) & (data.question2.str.contains('>')))\n",
    "\n",
    "print('Before removing HTML tags: ')\n",
    "print(f'Number of rows in question1 with both < & > operator: {q1_tags}')\n",
    "print(f'Number of rows in question2 with both < & > operator: {q2_tags}')"
   ]
  },
  {
   "cell_type": "code",
   "execution_count": 8,
   "metadata": {},
   "outputs": [],
   "source": [
    "def remove_html_tags(text):\n",
    "    soup = BeautifulSoup(text, \"html.parser\")\n",
    "    updated_text = soup.get_text(separator=\" \") \n",
    "    return updated_text"
   ]
  },
  {
   "cell_type": "code",
   "execution_count": 9,
   "metadata": {},
   "outputs": [],
   "source": [
    "data['question1'] = data.question1.apply(remove_html_tags)\n",
    "data['question2'] = data.question2.apply(remove_html_tags)"
   ]
  },
  {
   "cell_type": "code",
   "execution_count": 10,
   "metadata": {},
   "outputs": [
    {
     "name": "stdout",
     "output_type": "stream",
     "text": [
      "After removing HTML tags: \n",
      "Number of rows in question1 with both < & > operator: 28\n",
      "Number of rows in question2 with both < & > operator: 9\n"
     ]
    }
   ],
   "source": [
    "q1_tags = sum((data.question1.str.contains('<')) & (data.question1.str.contains('>')))\n",
    "q2_tags = sum((data.question2.str.contains('<')) & (data.question2.str.contains('>')))\n",
    "\n",
    "print('After removing HTML tags: ')\n",
    "print(f'Number of rows in question1 with both < & > operator: {q1_tags}')\n",
    "print(f'Number of rows in question2 with both < & > operator: {q2_tags}')"
   ]
  },
  {
   "cell_type": "markdown",
   "metadata": {},
   "source": [
    "data[data.question1.str.contains('^[<*>]', regex=True)]"
   ]
  },
  {
   "cell_type": "markdown",
   "metadata": {},
   "source": [
    "### De-accent"
   ]
  },
  {
   "cell_type": "code",
   "execution_count": 11,
   "metadata": {},
   "outputs": [
    {
     "data": {
      "text/html": [
       "<div>\n",
       "<style scoped>\n",
       "    .dataframe tbody tr th:only-of-type {\n",
       "        vertical-align: middle;\n",
       "    }\n",
       "\n",
       "    .dataframe tbody tr th {\n",
       "        vertical-align: top;\n",
       "    }\n",
       "\n",
       "    .dataframe thead th {\n",
       "        text-align: right;\n",
       "    }\n",
       "</style>\n",
       "<table border=\"1\" class=\"dataframe\">\n",
       "  <thead>\n",
       "    <tr style=\"text-align: right;\">\n",
       "      <th></th>\n",
       "      <th>id</th>\n",
       "      <th>qid1</th>\n",
       "      <th>qid2</th>\n",
       "      <th>question1</th>\n",
       "      <th>question2</th>\n",
       "      <th>is_duplicate</th>\n",
       "    </tr>\n",
       "  </thead>\n",
       "  <tbody>\n",
       "    <tr>\n",
       "      <th>36858</th>\n",
       "      <td>36858</td>\n",
       "      <td>67161</td>\n",
       "      <td>67162</td>\n",
       "      <td>what is the difference between “杂” (zá) and ”内脏\" (nèizàng)?</td>\n",
       "      <td>what is the difference between \";\" and \",\"?</td>\n",
       "      <td>0</td>\n",
       "    </tr>\n",
       "    <tr>\n",
       "      <th>37327</th>\n",
       "      <td>37327</td>\n",
       "      <td>67940</td>\n",
       "      <td>67941</td>\n",
       "      <td>what does c-3p0 think happened to anakin skywalker?</td>\n",
       "      <td>why did anakin skywalker love padmè amidala?</td>\n",
       "      <td>0</td>\n",
       "    </tr>\n",
       "    <tr>\n",
       "      <th>40748</th>\n",
       "      <td>40748</td>\n",
       "      <td>73679</td>\n",
       "      <td>73680</td>\n",
       "      <td>what rain barrel would you suggest for pouring drinks in the top and opening to drain on the bottom?</td>\n",
       "      <td>in eurofours pastry deck oven, what is the top and bottom temperature settings for meringue, macaron, crème brûlée, cakes and cookies, and choux pastry?</td>\n",
       "      <td>0</td>\n",
       "    </tr>\n",
       "    <tr>\n",
       "      <th>48448</th>\n",
       "      <td>48448</td>\n",
       "      <td>86378</td>\n",
       "      <td>86379</td>\n",
       "      <td>how do you pronounce the word ricqlès?</td>\n",
       "      <td>how do you pronounce the word anime?</td>\n",
       "      <td>0</td>\n",
       "    </tr>\n",
       "    <tr>\n",
       "      <th>54460</th>\n",
       "      <td>54460</td>\n",
       "      <td>96136</td>\n",
       "      <td>96137</td>\n",
       "      <td>what is the difference between e, è, é, ê, ë, ē, ė, and ę?</td>\n",
       "      <td>why do i always get confused between the usage of english alphabets \"e\" and \"i\"?</td>\n",
       "      <td>0</td>\n",
       "    </tr>\n",
       "  </tbody>\n",
       "</table>\n",
       "</div>"
      ],
      "text/plain": [
       "          id   qid1   qid2  \\\n",
       "36858  36858  67161  67162   \n",
       "37327  37327  67940  67941   \n",
       "40748  40748  73679  73680   \n",
       "48448  48448  86378  86379   \n",
       "54460  54460  96136  96137   \n",
       "\n",
       "                                                                                                  question1  \\\n",
       "36858  what is the difference between “杂” (zá) and ”内脏\" (nèizàng)?                                            \n",
       "37327  what does c-3p0 think happened to anakin skywalker?                                                    \n",
       "40748  what rain barrel would you suggest for pouring drinks in the top and opening to drain on the bottom?   \n",
       "48448  how do you pronounce the word ricqlès?                                                                 \n",
       "54460  what is the difference between e, è, é, ê, ë, ē, ė, and ę?                                             \n",
       "\n",
       "                                                                                                                                                      question2  \\\n",
       "36858  what is the difference between \";\" and \",\"?                                                                                                                \n",
       "37327  why did anakin skywalker love padmè amidala?                                                                                                               \n",
       "40748  in eurofours pastry deck oven, what is the top and bottom temperature settings for meringue, macaron, crème brûlée, cakes and cookies, and choux pastry?   \n",
       "48448  how do you pronounce the word anime?                                                                                                                       \n",
       "54460  why do i always get confused between the usage of english alphabets \"e\" and \"i\"?                                                                           \n",
       "\n",
       "       is_duplicate  \n",
       "36858  0             \n",
       "37327  0             \n",
       "40748  0             \n",
       "48448  0             \n",
       "54460  0             "
      ]
     },
     "execution_count": 11,
     "metadata": {},
     "output_type": "execute_result"
    }
   ],
   "source": [
    "data[(data.question1.str.contains('è')) | (data.question2.str.contains('è'))].head()"
   ]
  },
  {
   "cell_type": "code",
   "execution_count": 13,
   "metadata": {},
   "outputs": [],
   "source": [
    "from gensim.utils import deaccent\n",
    "\n",
    "data['question1'] = data.question1.apply(deaccent)\n",
    "data['question2'] = data.question2.apply(deaccent)"
   ]
  },
  {
   "cell_type": "code",
   "execution_count": 14,
   "metadata": {},
   "outputs": [
    {
     "data": {
      "text/html": [
       "<div>\n",
       "<style scoped>\n",
       "    .dataframe tbody tr th:only-of-type {\n",
       "        vertical-align: middle;\n",
       "    }\n",
       "\n",
       "    .dataframe tbody tr th {\n",
       "        vertical-align: top;\n",
       "    }\n",
       "\n",
       "    .dataframe thead th {\n",
       "        text-align: right;\n",
       "    }\n",
       "</style>\n",
       "<table border=\"1\" class=\"dataframe\">\n",
       "  <thead>\n",
       "    <tr style=\"text-align: right;\">\n",
       "      <th></th>\n",
       "      <th>id</th>\n",
       "      <th>qid1</th>\n",
       "      <th>qid2</th>\n",
       "      <th>question1</th>\n",
       "      <th>question2</th>\n",
       "      <th>is_duplicate</th>\n",
       "    </tr>\n",
       "  </thead>\n",
       "  <tbody>\n",
       "  </tbody>\n",
       "</table>\n",
       "</div>"
      ],
      "text/plain": [
       "Empty DataFrame\n",
       "Columns: [id, qid1, qid2, question1, question2, is_duplicate]\n",
       "Index: []"
      ]
     },
     "execution_count": 14,
     "metadata": {},
     "output_type": "execute_result"
    }
   ],
   "source": [
    "data[(data.question1.str.contains('è')) | (data.question2.str.contains('è'))].head()"
   ]
  },
  {
   "cell_type": "markdown",
   "metadata": {},
   "source": [
    "### Expand contractions\n",
    "For example: \"I don't wanna go out\" tranformed to \"I do not want to go out\""
   ]
  },
  {
   "cell_type": "code",
   "execution_count": 15,
   "metadata": {},
   "outputs": [],
   "source": [
    "from pycontractions import Contractions\n",
    "import gensim.downloader as api\n",
    "\n",
    "model = api.load(\"glove-twitter-25\")\n",
    "cont = Contractions(kv_model=model) \n",
    "cont.load_models()"
   ]
  },
  {
   "cell_type": "code",
   "execution_count": 16,
   "metadata": {},
   "outputs": [],
   "source": [
    "def expand_contractions(text):\n",
    "    text = list(cont.expand_texts([text], precise=True))[0] \n",
    "    return text"
   ]
  },
  {
   "cell_type": "code",
   "execution_count": 17,
   "metadata": {},
   "outputs": [],
   "source": [
    "data['question1'] = data.question1.apply(expand_contractions)\n",
    "data['question2'] = data.question2.apply(expand_contractions)"
   ]
  },
  {
   "cell_type": "markdown",
   "metadata": {},
   "source": [
    "data.to_csv('quora_preprocessed.csv', index=False)"
   ]
  },
  {
   "cell_type": "markdown",
   "metadata": {},
   "source": [
    "data = pd.read_csv('quora_preprocessed.csv')"
   ]
  },
  {
   "cell_type": "markdown",
   "metadata": {},
   "source": [
    "### Removing punctuations/special characters\n",
    "Retaining alphanumeric characters only"
   ]
  },
  {
   "cell_type": "code",
   "execution_count": 56,
   "metadata": {},
   "outputs": [],
   "source": [
    "data['question1'] = data.question1.str.replace('[^A-Za-z0-9 ]+','',regex=True)\n",
    "data['question2'] = data.question2.str.replace('[^A-Za-z0-9 ]+','',regex=True)"
   ]
  },
  {
   "cell_type": "markdown",
   "metadata": {},
   "source": [
    "### Stemming & lemmetization\n",
    "Converting words to root form"
   ]
  },
  {
   "cell_type": "code",
   "execution_count": 57,
   "metadata": {},
   "outputs": [],
   "source": [
    "def join_words(words):\n",
    "    text = ' '.join(words)\n",
    "    return text"
   ]
  },
  {
   "cell_type": "code",
   "execution_count": 58,
   "metadata": {},
   "outputs": [
    {
     "name": "stdout",
     "output_type": "stream",
     "text": [
      "Stemming question1\n",
      "Stemming question2\n"
     ]
    }
   ],
   "source": [
    "from nltk.stem.snowball import SnowballStemmer\n",
    "stemmer = SnowballStemmer(\"english\")\n",
    "\n",
    "print('Stemming question1')\n",
    "data['question1'] = data['question1'].str.split()\n",
    "data['question1'] = data['question1'].apply(lambda x: [stemmer.stem(y) for y in x])\n",
    "data['question1'] = data['question1'].apply(join_words)\n",
    "\n",
    "print('Stemming question2')\n",
    "data['question2'] = data['question2'].str.split()\n",
    "data['question2'] = data['question2'].apply(lambda x: [stemmer.stem(y) for y in x])\n",
    "data['question2'] = data['question2'].apply(join_words)"
   ]
  },
  {
   "cell_type": "code",
   "execution_count": 59,
   "metadata": {},
   "outputs": [
    {
     "data": {
      "text/html": [
       "<div>\n",
       "<style scoped>\n",
       "    .dataframe tbody tr th:only-of-type {\n",
       "        vertical-align: middle;\n",
       "    }\n",
       "\n",
       "    .dataframe tbody tr th {\n",
       "        vertical-align: top;\n",
       "    }\n",
       "\n",
       "    .dataframe thead th {\n",
       "        text-align: right;\n",
       "    }\n",
       "</style>\n",
       "<table border=\"1\" class=\"dataframe\">\n",
       "  <thead>\n",
       "    <tr style=\"text-align: right;\">\n",
       "      <th></th>\n",
       "      <th>id</th>\n",
       "      <th>qid1</th>\n",
       "      <th>qid2</th>\n",
       "      <th>question1</th>\n",
       "      <th>question2</th>\n",
       "      <th>is_duplicate</th>\n",
       "    </tr>\n",
       "  </thead>\n",
       "  <tbody>\n",
       "    <tr>\n",
       "      <th>0</th>\n",
       "      <td>0</td>\n",
       "      <td>1</td>\n",
       "      <td>2</td>\n",
       "      <td>what is the step by step guid to invest in share market in india</td>\n",
       "      <td>what is the step by step guid to invest in share market</td>\n",
       "      <td>0</td>\n",
       "    </tr>\n",
       "    <tr>\n",
       "      <th>1</th>\n",
       "      <td>1</td>\n",
       "      <td>3</td>\n",
       "      <td>4</td>\n",
       "      <td>what is the stori of kohinoor kohinoor diamond</td>\n",
       "      <td>what would happen if the indian govern stole the kohinoor kohinoor diamond back</td>\n",
       "      <td>0</td>\n",
       "    </tr>\n",
       "    <tr>\n",
       "      <th>2</th>\n",
       "      <td>2</td>\n",
       "      <td>5</td>\n",
       "      <td>6</td>\n",
       "      <td>how can i increas the speed of my internet connect while use a vpn</td>\n",
       "      <td>how can internet speed be increas by hack through dns</td>\n",
       "      <td>0</td>\n",
       "    </tr>\n",
       "    <tr>\n",
       "      <th>3</th>\n",
       "      <td>3</td>\n",
       "      <td>7</td>\n",
       "      <td>8</td>\n",
       "      <td>whi am i mental veri lone how can i solv it</td>\n",
       "      <td>find the remaind when math2324math is divid by 2423</td>\n",
       "      <td>0</td>\n",
       "    </tr>\n",
       "    <tr>\n",
       "      <th>4</th>\n",
       "      <td>4</td>\n",
       "      <td>9</td>\n",
       "      <td>10</td>\n",
       "      <td>which one dissolv in water quik sugar salt methan and carbon di oxid</td>\n",
       "      <td>which fish would surviv in salt water</td>\n",
       "      <td>0</td>\n",
       "    </tr>\n",
       "    <tr>\n",
       "      <th>...</th>\n",
       "      <td>...</td>\n",
       "      <td>...</td>\n",
       "      <td>...</td>\n",
       "      <td>...</td>\n",
       "      <td>...</td>\n",
       "      <td>...</td>\n",
       "    </tr>\n",
       "    <tr>\n",
       "      <th>404282</th>\n",
       "      <td>404285</td>\n",
       "      <td>433578</td>\n",
       "      <td>379845</td>\n",
       "      <td>how mani keyword are there in the racket program languag of the latest version</td>\n",
       "      <td>how mani keyword are there in perl program languag in the latest version</td>\n",
       "      <td>0</td>\n",
       "    </tr>\n",
       "    <tr>\n",
       "      <th>404283</th>\n",
       "      <td>404286</td>\n",
       "      <td>18840</td>\n",
       "      <td>155606</td>\n",
       "      <td>do you believ there is life after death</td>\n",
       "      <td>is it true that there is life after death</td>\n",
       "      <td>1</td>\n",
       "    </tr>\n",
       "    <tr>\n",
       "      <th>404284</th>\n",
       "      <td>404287</td>\n",
       "      <td>537928</td>\n",
       "      <td>537929</td>\n",
       "      <td>what is one coin</td>\n",
       "      <td>what is this coin</td>\n",
       "      <td>0</td>\n",
       "    </tr>\n",
       "    <tr>\n",
       "      <th>404285</th>\n",
       "      <td>404288</td>\n",
       "      <td>537930</td>\n",
       "      <td>537931</td>\n",
       "      <td>what is the approx annual cost of live while studi in uic chicago for an indian student</td>\n",
       "      <td>i am have littl hairfal problem but i want to use hair style product which one should i prefer out of gel wax and clay</td>\n",
       "      <td>0</td>\n",
       "    </tr>\n",
       "    <tr>\n",
       "      <th>404286</th>\n",
       "      <td>404289</td>\n",
       "      <td>537932</td>\n",
       "      <td>537933</td>\n",
       "      <td>what is like to have sex with cousin</td>\n",
       "      <td>what is it like to have sex with your cousin</td>\n",
       "      <td>0</td>\n",
       "    </tr>\n",
       "  </tbody>\n",
       "</table>\n",
       "<p>404287 rows × 6 columns</p>\n",
       "</div>"
      ],
      "text/plain": [
       "            id    qid1    qid2  \\\n",
       "0       0       1       2        \n",
       "1       1       3       4        \n",
       "2       2       5       6        \n",
       "3       3       7       8        \n",
       "4       4       9       10       \n",
       "...    ..      ..       ..       \n",
       "404282  404285  433578  379845   \n",
       "404283  404286  18840   155606   \n",
       "404284  404287  537928  537929   \n",
       "404285  404288  537930  537931   \n",
       "404286  404289  537932  537933   \n",
       "\n",
       "                                                                                      question1  \\\n",
       "0       what is the step by step guid to invest in share market in india                          \n",
       "1       what is the stori of kohinoor kohinoor diamond                                            \n",
       "2       how can i increas the speed of my internet connect while use a vpn                        \n",
       "3       whi am i mental veri lone how can i solv it                                               \n",
       "4       which one dissolv in water quik sugar salt methan and carbon di oxid                      \n",
       "...                                                                      ...                      \n",
       "404282  how mani keyword are there in the racket program languag of the latest version            \n",
       "404283  do you believ there is life after death                                                   \n",
       "404284  what is one coin                                                                          \n",
       "404285  what is the approx annual cost of live while studi in uic chicago for an indian student   \n",
       "404286  what is like to have sex with cousin                                                      \n",
       "\n",
       "                                                                                                                     question2  \\\n",
       "0       what is the step by step guid to invest in share market                                                                  \n",
       "1       what would happen if the indian govern stole the kohinoor kohinoor diamond back                                          \n",
       "2       how can internet speed be increas by hack through dns                                                                    \n",
       "3       find the remaind when math2324math is divid by 2423                                                                      \n",
       "4       which fish would surviv in salt water                                                                                    \n",
       "...                                       ...                                                                                    \n",
       "404282  how mani keyword are there in perl program languag in the latest version                                                 \n",
       "404283  is it true that there is life after death                                                                                \n",
       "404284  what is this coin                                                                                                        \n",
       "404285  i am have littl hairfal problem but i want to use hair style product which one should i prefer out of gel wax and clay   \n",
       "404286  what is it like to have sex with your cousin                                                                             \n",
       "\n",
       "        is_duplicate  \n",
       "0       0             \n",
       "1       0             \n",
       "2       0             \n",
       "3       0             \n",
       "4       0             \n",
       "...    ..             \n",
       "404282  0             \n",
       "404283  1             \n",
       "404284  0             \n",
       "404285  0             \n",
       "404286  0             \n",
       "\n",
       "[404287 rows x 6 columns]"
      ]
     },
     "execution_count": 59,
     "metadata": {},
     "output_type": "execute_result"
    }
   ],
   "source": [
    "data"
   ]
  },
  {
   "cell_type": "markdown",
   "metadata": {},
   "source": [
    "### Removing records with less than or equal to 10 characters in question1 or question2"
   ]
  },
  {
   "cell_type": "code",
   "execution_count": 60,
   "metadata": {},
   "outputs": [],
   "source": [
    "data = data[(data.question1.str.len() > 10) & (data.question2.str.len() > 10)]"
   ]
  },
  {
   "cell_type": "markdown",
   "metadata": {},
   "source": [
    "**Exporting to .csv**"
   ]
  },
  {
   "cell_type": "code",
   "execution_count": 61,
   "metadata": {},
   "outputs": [],
   "source": [
    "data.to_csv('quora_preprocessed_v2.csv', index=False)"
   ]
  }
 ],
 "metadata": {
  "kernelspec": {
   "display_name": "Python 3",
   "language": "python",
   "name": "python3"
  },
  "language_info": {
   "codemirror_mode": {
    "name": "ipython",
    "version": 3
   },
   "file_extension": ".py",
   "mimetype": "text/x-python",
   "name": "python",
   "nbconvert_exporter": "python",
   "pygments_lexer": "ipython3",
   "version": "3.7.4"
  },
  "varInspector": {
   "cols": {
    "lenName": 16,
    "lenType": 16,
    "lenVar": 40
   },
   "kernels_config": {
    "python": {
     "delete_cmd_postfix": "",
     "delete_cmd_prefix": "del ",
     "library": "var_list.py",
     "varRefreshCmd": "print(var_dic_list())"
    },
    "r": {
     "delete_cmd_postfix": ") ",
     "delete_cmd_prefix": "rm(",
     "library": "var_list.r",
     "varRefreshCmd": "cat(var_dic_list()) "
    }
   },
   "types_to_exclude": [
    "module",
    "function",
    "builtin_function_or_method",
    "instance",
    "_Feature"
   ],
   "window_display": false
  }
 },
 "nbformat": 4,
 "nbformat_minor": 4
}
